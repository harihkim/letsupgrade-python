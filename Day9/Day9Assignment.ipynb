{
 "cells": [
  {
   "cell_type": "code",
   "execution_count": 32,
   "metadata": {},
   "outputs": [
    {
     "name": "stdout",
     "output_type": "stream",
     "text": [
      "not a prime\n"
     ]
    }
   ],
   "source": [
    "# QUESTION 1\n",
    "def isPrime(num):\n",
    "    if(num>1):\n",
    "        for i in range(2,(num//2)+1):\n",
    "            if((num%i)==0):\n",
    "                print(\"not a prime\")\n",
    "                break\n",
    "        else:\n",
    "            print(\"prime\")\n",
    "isPrime(8)"
   ]
  },
  {
   "cell_type": "code",
   "execution_count": null,
   "metadata": {},
   "outputs": [],
   "source": [
    "#QUESTION 2\n",
    "\n",
    "def armGen():\n",
    "    for i in range(1,1000):\n",
    "        n=i\n",
    "        sum=0\n",
    "        power=len(str(n))\n",
    "        for j in range(power):\n",
    "            digit=n%10\n",
    "            sum=sum+(digit**power)\n",
    "            n=n//10\n",
    "        if(sum==i):\n",
    "            yield i\n",
    "#armGen()\n",
    "#generator \"gen\"\n",
    "gen=armGen()#(x for x in arm)\n",
    "#print(type(gen))\n",
    "for num in gen:\n",
    "    print(num)\n",
    "        "
   ]
  },
  {
   "cell_type": "code",
   "execution_count": null,
   "metadata": {},
   "outputs": [],
   "source": []
  }
 ],
 "metadata": {
  "kernelspec": {
   "display_name": "Python 3",
   "language": "python",
   "name": "python3"
  },
  "language_info": {
   "codemirror_mode": {
    "name": "ipython",
    "version": 3
   },
   "file_extension": ".py",
   "mimetype": "text/x-python",
   "name": "python",
   "nbconvert_exporter": "python",
   "pygments_lexer": "ipython3",
   "version": "3.8.5"
  }
 },
 "nbformat": 4,
 "nbformat_minor": 4
}
