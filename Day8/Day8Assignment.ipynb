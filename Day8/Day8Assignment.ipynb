{
 "cells": [
  {
   "cell_type": "code",
   "execution_count": null,
   "metadata": {},
   "outputs": [],
   "source": [
    "# QUESTION 1\n",
    "def sdivide(func):\n",
    "    def inner(x,y):\n",
    "        if y== 0:\n",
    "            print(\"Cannot divide by zero!\")\n",
    "            return\n",
    "\n",
    "        return func(x,y)\n",
    "    return inner\n",
    "\n",
    "@sdivide\n",
    "def divide(a, b):\n",
    "    print(a/b)\n",
    "divide(4,0)"
   ]
  },
  {
   "cell_type": "code",
   "execution_count": null,
   "metadata": {},
   "outputs": [],
   "source": [
    "# QUESTION 2\n",
    "try:\n",
    "\tf=open(\"text.txt\",\"r\")\n",
    "\tf.write(\"rhhfdhhh\")\n",
    "except Exception as ex:\n",
    "\tprint(\"error:\",ex)\n",
    "finally:\n",
    "\tf.close()"
   ]
  },
  {
   "cell_type": "code",
   "execution_count": null,
   "metadata": {},
   "outputs": [],
   "source": []
  }
 ],
 "metadata": {
  "kernelspec": {
   "display_name": "Python 3",
   "language": "python",
   "name": "python3"
  },
  "language_info": {
   "codemirror_mode": {
    "name": "ipython",
    "version": 3
   },
   "file_extension": ".py",
   "mimetype": "text/x-python",
   "name": "python",
   "nbconvert_exporter": "python",
   "pygments_lexer": "ipython3",
   "version": "3.8.5"
  }
 },
 "nbformat": 4,
 "nbformat_minor": 4
}
